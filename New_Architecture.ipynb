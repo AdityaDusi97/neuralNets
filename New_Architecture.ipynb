{
 "cells": [
  {
   "cell_type": "code",
   "execution_count": 1,
   "metadata": {},
   "outputs": [],
   "source": [
    "# let's import various packages that we need\n",
    "import math\n",
    "import numpy as np\n",
    "import h5py\n",
    "import matplotlib.pyplot as plt\n",
    "import scipy\n",
    "from PIL import Image\n",
    "from scipy import ndimage\n",
    "import tensorflow as tf\n",
    "from tensorflow.python.framework import ops\n",
    "import dataset\n",
    "import random\n",
    "\n",
    "%matplotlib inline\n",
    "np.random.seed(1)"
   ]
  },
  {
   "cell_type": "code",
   "execution_count": 2,
   "metadata": {},
   "outputs": [],
   "source": [
    "# path to training images \n",
    "train_path = \"../../pimed/pimed_tutorials/python/data/write/rot_images_new_train/\"\n",
    "#data = dataset.read_train_sets(train_path, img_size, classes, validation_size=validation_size)"
   ]
  },
  {
   "cell_type": "code",
   "execution_count": 3,
   "metadata": {},
   "outputs": [],
   "source": [
    "# function to read data into an array\n",
    "from PIL import Image\n",
    "import os\n",
    "def load_images_from_folder(folder):\n",
    "    images = []\n",
    "    for filename in os.listdir(folder):\n",
    "        img = Image.open(os.path.join(folder,filename))\n",
    "        A=np.asarray(img)\n",
    "        images.append(A)\n",
    "    return images\n",
    "images = load_images_from_folder(train_path)\n",
    "images = np.array(images)\n",
    "# print(len(images[0]))\n",
    "# filename = os.listdir(train_path)[0]\n",
    "# img = Image.open(os.path.join(train_path, filename))\n",
    "# print(img)\n",
    "# import numpy as np\n",
    "# A=np.asarray(img)\n",
    "# print(A.shape)"
   ]
  },
  {
   "cell_type": "code",
   "execution_count": 4,
   "metadata": {},
   "outputs": [
    {
     "name": "stdout",
     "output_type": "stream",
     "text": [
      "(495, 165, 256, 3)\n"
     ]
    }
   ],
   "source": [
    "print(np.shape(images))\n"
   ]
  },
  {
   "cell_type": "code",
   "execution_count": 23,
   "metadata": {},
   "outputs": [
    {
     "ename": "NameError",
     "evalue": "name 'data' is not defined",
     "output_type": "error",
     "traceback": [
      "\u001b[0;31m---------------------------------------------------------------------------\u001b[0m",
      "\u001b[0;31mNameError\u001b[0m                                 Traceback (most recent call last)",
      "\u001b[0;32m<ipython-input-23-45b6126c5a59>\u001b[0m in \u001b[0;36m<module>\u001b[0;34m()\u001b[0m\n\u001b[1;32m      8\u001b[0m \u001b[0;31m# to see if read correctly\u001b[0m\u001b[0;34m\u001b[0m\u001b[0;34m\u001b[0m\u001b[0m\n\u001b[1;32m      9\u001b[0m '''\n\u001b[0;32m---> 10\u001b[0;31m \u001b[0;32mfor\u001b[0m \u001b[0mi\u001b[0m \u001b[0;32min\u001b[0m \u001b[0mdata\u001b[0m\u001b[0;34m:\u001b[0m\u001b[0;34m\u001b[0m\u001b[0m\n\u001b[0m\u001b[1;32m     11\u001b[0m     \u001b[0;32mprint\u001b[0m\u001b[0;34m(\u001b[0m\u001b[0mi\u001b[0m\u001b[0;34m)\u001b[0m\u001b[0;34m\u001b[0m\u001b[0m\n\u001b[1;32m     12\u001b[0m '''\n",
      "\u001b[0;31mNameError\u001b[0m: name 'data' is not defined"
     ]
    }
   ],
   "source": [
    "'''\n",
    "# read the labels\n",
    "label_path = '../../pimed/pimed_tutorials/python/data/labels/new_lab.txt'\n",
    "f = open(label_path, \"r\")\n",
    "data =[]\n",
    "for line in f:\n",
    "    data.append(line)\n",
    "# to see if read correctly    \n",
    "'''\n",
    "for i in data:\n",
    "    print(i)\n",
    "'''\n",
    "x = np.shape(data)[0]\n",
    "data = np.array(data)\n",
    "data = data.reshape(x,1)\n",
    "print(np.shape(data))\n",
    "'''"
   ]
  },
  {
   "cell_type": "code",
   "execution_count": null,
   "metadata": {},
   "outputs": [],
   "source": [
    "# Some test code to may print out a part of what we loaded\n",
    "## TO-DO: Look into the logic for this"
   ]
  },
  {
   "cell_type": "code",
   "execution_count": null,
   "metadata": {},
   "outputs": [],
   "source": [
    "# Normalize the input data as we read in 8 bit pixel values. We wish to convert them to some number between 0 and 1\n",
    "# Also encode the angles using one-hot encoding\n",
    "#X_train, X_test, Y_train, Y_test: X_train and X_test will be 4D tensors with (no. of examples, l,w, channels).\n",
    "# Y_train and Y_test: \n",
    "\n",
    "# uncomment this code later\n",
    "#print(\"Shape of X_train: \" + str(X_train.shape))\n",
    "#print(\"Shape of Y_train: \" + str(Y_train.shape))\n",
    "#print(\"Shape of X_test: \" + str(X_test.shape))\n",
    "#print(\"Shape of Y_test: \" + str(Y_test.shape))\n",
    "\n",
    "      "
   ]
  },
  {
   "cell_type": "code",
   "execution_count": 5,
   "metadata": {},
   "outputs": [
    {
     "name": "stdout",
     "output_type": "stream",
     "text": [
      "(495, 5)\n"
     ]
    }
   ],
   "source": [
    "# code that reads labels from a file and converts them to categorical\n",
    "# training labels\n",
    "label_path = \"../../pimed/pimed_tutorials/python/data/labels/iter_train.txt\" # insert path here\n",
    "num_cat = 5 # for now it's 5 categories\n",
    "f = open(label_path, \"r\") # open the file to read\n",
    "labels=[]\n",
    "#read all the labels and append them to this list\n",
    "for line in f:\n",
    "    labels.append(int(line)) # read as char, need to convert to int\n",
    "\n",
    "# let's print them out\n",
    "'''\n",
    "for i in range(len(labels)):\n",
    "    print(labels[i])\n",
    "'''\n",
    "\n",
    "# let's now convert them to categorical\n",
    "y = np.zeros((num_cat,len(labels)))\n",
    "\n",
    "# Logic for one-hot encoding\n",
    "for i in range(len(labels)):\n",
    "    if(labels[i]==-30):\n",
    "        y[0,i] = 1\n",
    "    elif(labels[i]==-15):\n",
    "        y[1,i] = 1\n",
    "    elif(labels[i]==0):\n",
    "        y[2,i] = 1\n",
    "    elif(labels[i]==15):\n",
    "        y[3,i] = 1\n",
    "    elif(labels[i]==30):\n",
    "        y[4,i] = 1\n",
    "y = np.transpose(y)\n",
    "print(np.shape(y))"
   ]
  },
  {
   "cell_type": "code",
   "execution_count": 6,
   "metadata": {},
   "outputs": [],
   "source": [
    "# let's create place holders for variables\n",
    "def create_placeholders(n_h,n_w,n_c,n_y):\n",
    "    '''\n",
    "    create place holders that will be used for building the graph. (X,Y)\n",
    "    h: height of the image\n",
    "    w: width of the image\n",
    "    c: number of channels in the image\n",
    "    y: number of output classes\n",
    "    '''\n",
    "    X = tf.placeholder(tf.float32, shape=(None,n_h,n_w,n_c)) # none is for the batch size and all\n",
    "    Y = tf.placeholder(tf.float32, shape=(None, n_y))\n",
    "    return X,Y\n",
    "    "
   ]
  },
  {
   "cell_type": "code",
   "execution_count": 16,
   "metadata": {},
   "outputs": [],
   "source": [
    "def init_parameters():\n",
    "    '''\n",
    "    Let's first accumulate all the Weights. Pool will be taken care of in the later section\n",
    "    '''\n",
    "    W1 = tf.get_variable(\"W1\", [3,3,3,64], initializer=tf.contrib.layers.xavier_initializer(seed=0))\n",
    "    W2 = tf.get_variable(\"W2\", [3,3,64,64], initializer=tf.contrib.layers.xavier_initializer(seed=0))\n",
    "    ## POOL COMES HERE IN THE ARCH\n",
    "    W3 = tf.get_variable(\"W3\", [3,3,64,128], initializer=tf.contrib.layers.xavier_initializer(seed=0))\n",
    "    W4 = tf.get_variable(\"W4\", [3,3,128,128], initializer=tf.contrib.layers.xavier_initializer(seed=0))\n",
    "    ''' WIll add these in later\n",
    "    ## POOL\n",
    "    W5 = tf.get_variable(\"W5\", [3,3,128,256], initializer=tf.contrib.layers.xavier_initializer(seed=0))\n",
    "    W6 = tf.get_variable(\"W6\", [3,3,256,256], initializer=tf.contrib.layers.xavier_initializer(seed=0))\n",
    "    W7 = tf.get_variable(\"W7\", [3,3,256,256], initializer=tf.contrib.layers.xavier_initializer(seed=0))\n",
    "    ## POOL\n",
    "    W8 = tf.get_variable(\"W8\", [3,3,256,512], initializer=tf.contrib.layers.xavier_initializer(seed=0))\n",
    "    W9 = tf.get_variable(\"W9\", [3,3,512,512], initializer=tf.contrib.layers.xavier_initializer(seed=0))\n",
    "    W10 = tf.get_variable(\"W10\", [3,3,512,512], initializer=tf.contrib.layers.xavier_initializer(seed=0))\n",
    "    ## POOL\n",
    "    W11 = tf.get_variable(\"W11\", [3,3,512,512], initializer=tf.contrib.layers.xavier_initializer(seed=0))\n",
    "    W12 = tf.get_variable(\"W12\", [3,3,512,512], initializer=tf.contrib.layers.xavier_initializer(seed=0))\n",
    "    W13 = tf.get_variable(\"W13\", [3,3,512,512], initializer=tf.contrib.layers.xavier_initializer(seed=0))\n",
    "    ## POOL \n",
    "    '''\n",
    "    # create a dictionary\n",
    "    parameters={\"W1\":W1, \"W2\":W2, \"W3\":W3, \"W4\":W4}\n",
    "    return parameters\n"
   ]
  },
  {
   "cell_type": "code",
   "execution_count": 17,
   "metadata": {},
   "outputs": [],
   "source": [
    "def forward_prop(X, parameters, n_classes, keep_prob):\n",
    "    '''\n",
    "    We passed the input and the dictionary that contains all the parameters\n",
    "    '''\n",
    "    # extract parameters from the dictionary\n",
    "    W1 = parameters[\"W1\"]\n",
    "    W2 = parameters[\"W2\"]\n",
    "    W3 = parameters[\"W3\"]\n",
    "    W4 = parameters[\"W4\"]\n",
    "    # Adding batch Norm\n",
    "    #X = tf.layers.batch_normalization(X, training=True)\n",
    "    \n",
    "    # the neural net part\n",
    "    Z1 = tf.nn.conv2d(X, W1, strides=[1,1,1,1], padding='SAME') # same convolutions\n",
    "    A1 = tf.nn.relu(Z1)\n",
    "    P1 = A1#tf.nn.max_pool(A1, ksize=[1,2,2,1], strides=[1,2,2,1], padding='SAME')\n",
    "    \n",
    "    Z2 = tf.nn.conv2d(P1, W2, strides=[1,1,1,1], padding='SAME')\n",
    "    A2 = tf.nn.relu(Z2)\n",
    "    P2 = tf.nn.max_pool(A2, ksize=[1,2,2,1], strides=[1,2,2,1], padding='SAME')\n",
    "    P2 = tf.nn.dropout(P2, keep_prob)  # DROP-OUT here\n",
    "    \n",
    "    Z3 = tf.nn.conv2d(P2, W3, strides=[1,1,1,1], padding='SAME')\n",
    "    A3 = tf.nn.relu(Z3)\n",
    "    P3 = A3#tf.nn.max_pool(A3, ksize=[1,2,2,1], strides=[1,2,2,1], padding='SAME')\n",
    "    \n",
    "    Z4 = tf.nn.conv2d(P3, W4, strides=[1,1,1,1], padding='SAME')\n",
    "    A4 = tf.nn.relu(Z4)\n",
    "    P4 = tf.nn.max_pool(A4, ksize=[1,2,2,1], strides=[1,2,2,1], padding='SAME')\n",
    "    \n",
    "    # let's now flatten the pool layers\n",
    "    P4 = tf.contrib.layers.flatten(P4)\n",
    "    \n",
    "    # Now connect to fully connected stuff\n",
    "    Z5 = tf.contrib.layers.fully_connected(P4, n_classes, activation_fn=None)\n",
    "    return Z5\n"
   ]
  },
  {
   "cell_type": "code",
   "execution_count": 18,
   "metadata": {},
   "outputs": [
    {
     "name": "stdout",
     "output_type": "stream",
     "text": [
      "Z3 = [[-0.3316269   0.18119879 -0.95048463 -1.2105908   0.3677706 ]\n",
      " [-0.15386146 -0.12816648 -0.8777418  -0.9120508   0.45201078]]\n",
      "(?, 5)\n"
     ]
    }
   ],
   "source": [
    "# code to test if above thing works\n",
    "tf.reset_default_graph()\n",
    "with tf.Session() as sess:\n",
    "    np.random.seed(1)\n",
    "    X, Y = create_placeholders(64, 64, 3, 5)\n",
    "    keep_prob = tf.placeholder(tf.float32)\n",
    "    parameters = init_parameters()\n",
    "    #keep_probs = tf.placeholder(tf.float32) # probability from dropput\n",
    "    Z3 = forward_prop(X, parameters, 5, keep_prob)\n",
    "    init = tf.global_variables_initializer()\n",
    "    sess.run(init)\n",
    "    a = sess.run(Z3, {X: np.random.randn(2,64,64,3), Y: np.random.randn(2,5), keep_prob:0.25})\n",
    "    print(\"Z3 = \" + str(a))\n",
    "    print(np.shape(Z3))"
   ]
  },
  {
   "cell_type": "code",
   "execution_count": 19,
   "metadata": {},
   "outputs": [],
   "source": [
    "# pass NN output and the ground truth\n",
    "# we will be using the cross entropy loss here\n",
    "def compute_cost(Z3, Y):\n",
    "    # applies softmax here\n",
    "    cost = tf.reduce_mean(tf.nn.softmax_cross_entropy_with_logits_v2(logits=Z3, labels=Y))\n",
    "    return cost"
   ]
  },
  {
   "cell_type": "code",
   "execution_count": 20,
   "metadata": {},
   "outputs": [
    {
     "name": "stdout",
     "output_type": "stream",
     "text": [
      "(3, 165, 256, 3)\n"
     ]
    }
   ],
   "source": [
    "# Select a particular minibatch\n",
    "def get_mini_batches(X, Y, minibatch_size, seed):\n",
    "    np.random.seed(seed)\n",
    "    indices = np.random.choice(np.shape(X)[0], minibatch_size, replace=False)\n",
    "    Y_batch = Y[indices,:]\n",
    "    X_batch = X[indices,:,:,:]\n",
    "    return X_batch, Y_batch\n",
    "f,g = get_mini_batches(images, y, 3, 1)\n",
    "print(np.shape(f))"
   ]
  },
  {
   "cell_type": "code",
   "execution_count": 21,
   "metadata": {},
   "outputs": [],
   "source": [
    "#let's build the model now\n",
    "def model(X_train, Y_train, X_test, Y_test, learning_rate=0.01,\n",
    "          num_epochs=10, minibatch_size=10, print_cost=True): \n",
    "    ''' Implements a three-layer ConvNet in Tensorflow: CONV2D -> RELU -> MAXPOOL -> CONV2D -> RELU -> MAXPOOL -> FLATTEN -> FULLYCONNECTED\n",
    "    X_train -- training set, of shape (None, x,y,z)\n",
    "    Y_train -- test set, of shape (None, n_y = 5) 5 for now\n",
    "    X_test -- training set, of shape (None, x,y,z)\n",
    "    Y_test -- test set, of shape (None, n_y = 5)\n",
    "    learning_rate -- learning rate of the optimization\n",
    "    num_epochs -- number of epochs of the optimization loop\n",
    "    minibatch_size -- size of a minibatch\n",
    "\n",
    "    Returns:\n",
    "    train_accuracy -- real number, accuracy on the train set (X_train)\n",
    "    test_accuracy -- real number, testing accuracy on the test set (X_test)\n",
    "    parameters -- parameters learnt by the model. They can then be used to predict.\n",
    "    '''\n",
    "\n",
    "    ops.reset_default_graph() # so that we can run this multiple times. removes some error\n",
    "    tf.set_random_seed(1)\n",
    "    seed=3\n",
    "    (m,n_h,n_w,n_c) = np.shape(X_train) # height, width, number of channels\n",
    "    n_y = np.shape(Y_train)[1] # number of output classes\n",
    "    costs=[] # to store all the costs\n",
    "\n",
    "    #creating place holders\n",
    "    #X, Y = create_placeholders(n_h,n_w,n_c,n_y)\n",
    "    X = tf.placeholder(tf.float32, shape=(None,n_h,n_w,n_c))\n",
    "    Y = tf.placeholder(tf.float32, shape=(None,n_y))\n",
    "    #initializing parameters\n",
    "    parameters = init_parameters()\n",
    "    keep_prob = tf.placeholder(tf.float32)\n",
    "    #Build computational graph\n",
    "    Z3 = forward_prop(X, parameters, n_y, keep_prob)\n",
    "    #Z3 = np.transpose(Z3) #commented out this line\n",
    "    #A3 = tf.nn.softmax(Z3)\n",
    "    #extend the graph to compute the graph\n",
    "    cost = compute_cost(Z3, Y)\n",
    "    # select an optimizer\n",
    "    optimizer = tf.train.AdamOptimizer(learning_rate=learning_rate).minimize(cost)\n",
    "    \n",
    "    #initialize global variables in the graph\n",
    "    init = tf.global_variables_initializer()\n",
    "    \n",
    "    with tf.Session() as sess:\n",
    "        sess.run(init) # run this session\n",
    "        \n",
    "        for epoch in range(num_epochs):\n",
    "            \n",
    "            minibatch_cost=0\n",
    "            num_minibatches = int(m/minibatch_size)\n",
    "            seed = seed * 2 + 3 # change seed so that more random samples are picked from data\n",
    "            \n",
    "            for minibatch in range(1,num_minibatches):\n",
    "                minibatch_X, minibatch_Y = get_mini_batches(X_train, Y_train, minibatch_size, seed)\n",
    "                seed = seed + 1\n",
    "                # get a mini-batch\n",
    "                #(minibatch_X, minibatch_Y) = minibatch\n",
    "                # compute total cost\n",
    "                _, temp_cost = sess.run([optimizer, cost], feed_dict={X:minibatch_X, Y:minibatch_Y, keep_prob:1})\n",
    "                minibatch_cost = temp_cost#/num_minibatches\n",
    "                \n",
    "                # let's now decide how to print the cost\n",
    "                if(print_cost==True and epoch%2==0):\n",
    "                    print(\"Cost after epoch: %i: %f\" %(epoch, minibatch_cost))\n",
    "                if(print_cost==True):\n",
    "                    costs.append(minibatch_cost)\n",
    "        \n",
    "        # that completes the model part\n",
    "        plt.plot(np.squeeze(costs)) # convert to array\n",
    "        plt.ylabel(\"cost\")\n",
    "        plt.xlabel(\"iteration (per 10s)\")\n",
    "        plt.title(\"Learning rate= \" + str(learning_rate))\n",
    "        plt.show()\n",
    "        \n",
    "        # let's now use the trained models to make predictions\n",
    "        predict_op = tf.argmax(Z3,1) #returns index\n",
    "        ground_th = tf.argmax(Y,1)\n",
    "        #prediction=tf.argmax(y,1)\n",
    "        # printing the predictions\n",
    "        \n",
    "        print predict_op.eval(feed_dict={X: X_test, keep_prob:1})\n",
    "        print ground_th.eval(feed_dict={Y: Y_test, keep_prob:1})\n",
    "        correct_prediction = tf.equal(predict_op, tf.argmax(Y,1))\n",
    "        \n",
    "        \n",
    "        #let's now calculate the cost\n",
    "        accuracy = tf.reduce_mean(tf.cast(correct_prediction, \"float\"))\n",
    "        #print(accuracy)\n",
    "        train_accuracy =  accuracy.eval({X:X_train, Y:Y_train, keep_prob:1})\n",
    "        test_accuracy = accuracy.eval({X:X_test, Y:Y_test, keep_prob:1})\n",
    "        print(\"Train Accuracy: \", train_accuracy)\n",
    "        print(\"Test Accuracy: \", test_accuracy)\n",
    "        print(\"Learning rate:\", learning_rate)\n",
    "        print(\"Number of Epochs:\", num_epochs)\n",
    "        print(\"Mini-batch Size:\", minibatch_size)\n",
    "        return train_accuracy, test_accuracy, parameters, predict_op\n",
    "        "
   ]
  },
  {
   "cell_type": "code",
   "execution_count": 22,
   "metadata": {},
   "outputs": [
    {
     "name": "stdout",
     "output_type": "stream",
     "text": [
      "(50, 5)\n"
     ]
    }
   ],
   "source": [
    "#let's test data and see how the network performs\n",
    "# code that reads labels from a file and converts them to categorical\n",
    "test_path = \"../../pimed/pimed_tutorials/python/data/labels/iter_test.txt\" # insert path here\n",
    "num_cat = 5 # for now it's 5 categories\n",
    "f = open(test_path, \"r\") # open the file to read\n",
    "test_labels=[]\n",
    "#read all the labels and append them to this list\n",
    "for line in f:\n",
    "    test_labels.append(int(line)) # read as char, need to convert to int\n",
    "\n",
    "# let's print them out\n",
    "'''\n",
    "for i in range(len(test_labels)):\n",
    "    print(test_labels[i])\n",
    "'''\n",
    "\n",
    "# let's now convert them to categorical\n",
    "Y_test = np.zeros((num_cat,len(test_labels)))\n",
    "\n",
    "#encoding\n",
    "for i in range(len(test_labels)):\n",
    "    if(test_labels[i]==-30):\n",
    "        Y_test[0,i] = 1\n",
    "    elif(test_labels[i]==-15):\n",
    "        Y_test[1,i] = 1\n",
    "    elif(test_labels[i]==0):\n",
    "        Y_test[2,i] = 1\n",
    "    elif(test_labels[i]==15):\n",
    "        Y_test[3,i] = 1\n",
    "    elif(test_labels[i]==30):\n",
    "        Y_test[4,i] = 1\n",
    "Y_test = np.transpose(Y_test)\n",
    "print(np.shape(Y_test))"
   ]
  },
  {
   "cell_type": "code",
   "execution_count": 23,
   "metadata": {},
   "outputs": [
    {
     "name": "stdout",
     "output_type": "stream",
     "text": [
      "(50, 165, 256, 3)\n"
     ]
    }
   ],
   "source": [
    "## Let's now read the images\n",
    "test_im_path = \"../../pimed/pimed_tutorials/python/data/write/rot_images_new_test/\"\n",
    "X_test = load_images_from_folder(test_im_path)\n",
    "X_test = np.array(X_test)\n",
    "print(np.shape(X_test))"
   ]
  },
  {
   "cell_type": "code",
   "execution_count": null,
   "metadata": {},
   "outputs": [
    {
     "name": "stdout",
     "output_type": "stream",
     "text": [
      "Cost after epoch: 0: 8.893380\n",
      "Cost after epoch: 0: 151998.546875\n",
      "Cost after epoch: 0: 596.103210\n"
     ]
    },
    {
     "data": {
      "image/png": "[encoded data removed]",
      "text/plain": [
       "<Figure size 432x288 with 1 Axes>"
      ]
     },
     "metadata": {
      "needs_background": "light"
     },
     "output_type": "display_data"
    },
    {
     "name": "stdout",
     "output_type": "stream",
     "text": [
      "[4 4 4 4 4 4 4 4 4 4 4 4 4 4 4 4 4 4 4 4 4 4 4 4 4 4 4 4 4 4 4 4 4 4 4 4 4\n",
      " 4 4 2 4 4 4 4 4 4 4 4 4 4]\n",
      "[0 1 2 3 4 0 1 2 3 4 0 1 2 3 4 0 1 2 3 4 0 1 2 3 4 0 1 2 3 4 0 1 2 3 4 0 1\n",
      " 2 3 4 0 1 2 3 4 0 1 2 3 4]\n"
     ]
    }
   ],
   "source": [
    "_, _, parameters, predict_op = model(images, y, X_test, Y_test, learning_rate = 0.01,num_epochs=2, minibatch_size=100)"
   ]
  },
  {
   "cell_type": "code",
   "execution_count": null,
   "metadata": {},
   "outputs": [],
   "source": []
  }
 ],
 "metadata": {
  "kernelspec": {
   "display_name": "Python 2",
   "language": "python",
   "name": "python2"
  },
  "language_info": {
   "codemirror_mode": {
    "name": "ipython",
    "version": 2
   },
   "file_extension": ".py",
   "mimetype": "text/x-python",
   "name": "python",
   "nbconvert_exporter": "python",
   "pygments_lexer": "ipython2",
   "version": "2.7.10"
  }
 },
 "nbformat": 4,
 "nbformat_minor": 2
}
